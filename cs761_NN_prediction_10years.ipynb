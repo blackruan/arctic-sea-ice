{
 "cells": [
  {
   "cell_type": "code",
   "execution_count": 1,
   "metadata": {
    "collapsed": true
   },
   "outputs": [],
   "source": [
    "import pandas as pd"
   ]
  },
  {
   "cell_type": "code",
   "execution_count": 2,
   "metadata": {
    "collapsed": true
   },
   "outputs": [],
   "source": [
    "import numpy as np"
   ]
  },
  {
   "cell_type": "code",
   "execution_count": 3,
   "metadata": {
    "collapsed": true
   },
   "outputs": [],
   "source": [
    "import matplotlib.pyplot as plt\n",
    "%matplotlib inline"
   ]
  },
  {
   "cell_type": "code",
   "execution_count": 4,
   "metadata": {
    "collapsed": false
   },
   "outputs": [
    {
     "name": "stderr",
     "output_type": "stream",
     "text": [
      "/Users/guangshanchen/anaconda/lib/python2.7/site-packages/sklearn/cross_validation.py:43: DeprecationWarning: This module has been deprecated in favor of the model_selection module into which all the refactored classes and functions are moved. Also note that the interface of the new CV iterators are different from that of this module. This module will be removed in 0.20.\n",
      "  \"This module will be removed in 0.20.\", DeprecationWarning)\n"
     ]
    }
   ],
   "source": [
    "from sklearn.neural_network import MLPRegressor\n",
    "from sklearn.cross_validation import cross_val_score\n",
    "from sklearn.metrics import median_absolute_error"
   ]
  },
  {
   "cell_type": "code",
   "execution_count": 5,
   "metadata": {
    "collapsed": true
   },
   "outputs": [],
   "source": [
    "# read all training instances\n",
    "train = pd.read_csv('ice_samples_10years.csv')"
   ]
  },
  {
   "cell_type": "code",
   "execution_count": 6,
   "metadata": {
    "collapsed": false
   },
   "outputs": [
    {
     "data": {
      "text/html": [
       "<div>\n",
       "<table border=\"1\" class=\"dataframe\">\n",
       "  <thead>\n",
       "    <tr style=\"text-align: right;\">\n",
       "      <th></th>\n",
       "      <th>Year</th>\n",
       "      <th>Month</th>\n",
       "      <th>t_1</th>\n",
       "      <th>t_2</th>\n",
       "      <th>t_3</th>\n",
       "      <th>t_4</th>\n",
       "      <th>t_5</th>\n",
       "      <th>t_6</th>\n",
       "      <th>t_7</th>\n",
       "      <th>t_8</th>\n",
       "      <th>...</th>\n",
       "      <th>co2_112</th>\n",
       "      <th>co2_113</th>\n",
       "      <th>co2_114</th>\n",
       "      <th>co2_115</th>\n",
       "      <th>co2_116</th>\n",
       "      <th>co2_117</th>\n",
       "      <th>co2_118</th>\n",
       "      <th>co2_119</th>\n",
       "      <th>co2_120</th>\n",
       "      <th>Value</th>\n",
       "    </tr>\n",
       "  </thead>\n",
       "  <tbody>\n",
       "    <tr>\n",
       "      <th>0</th>\n",
       "      <td>1989</td>\n",
       "      <td>1</td>\n",
       "      <td>13.625677</td>\n",
       "      <td>11.330833</td>\n",
       "      <td>9.135387</td>\n",
       "      <td>7.369000</td>\n",
       "      <td>7.891581</td>\n",
       "      <td>9.808677</td>\n",
       "      <td>11.943433</td>\n",
       "      <td>13.560903</td>\n",
       "      <td>...</td>\n",
       "      <td>333.93</td>\n",
       "      <td>335.56</td>\n",
       "      <td>337.60</td>\n",
       "      <td>339.20</td>\n",
       "      <td>339.00</td>\n",
       "      <td>338.94</td>\n",
       "      <td>338.13</td>\n",
       "      <td>336.65</td>\n",
       "      <td>336.21</td>\n",
       "      <td>14.954774</td>\n",
       "    </tr>\n",
       "    <tr>\n",
       "      <th>1</th>\n",
       "      <td>1989</td>\n",
       "      <td>2</td>\n",
       "      <td>14.954774</td>\n",
       "      <td>13.625677</td>\n",
       "      <td>11.330833</td>\n",
       "      <td>9.135387</td>\n",
       "      <td>7.369000</td>\n",
       "      <td>7.891581</td>\n",
       "      <td>9.808677</td>\n",
       "      <td>11.943433</td>\n",
       "      <td>...</td>\n",
       "      <td>334.12</td>\n",
       "      <td>333.93</td>\n",
       "      <td>335.56</td>\n",
       "      <td>337.60</td>\n",
       "      <td>339.20</td>\n",
       "      <td>339.00</td>\n",
       "      <td>338.94</td>\n",
       "      <td>338.13</td>\n",
       "      <td>336.65</td>\n",
       "      <td>15.495536</td>\n",
       "    </tr>\n",
       "    <tr>\n",
       "      <th>2</th>\n",
       "      <td>1989</td>\n",
       "      <td>3</td>\n",
       "      <td>15.495536</td>\n",
       "      <td>14.954774</td>\n",
       "      <td>13.625677</td>\n",
       "      <td>11.330833</td>\n",
       "      <td>9.135387</td>\n",
       "      <td>7.369000</td>\n",
       "      <td>7.891581</td>\n",
       "      <td>9.808677</td>\n",
       "      <td>...</td>\n",
       "      <td>335.26</td>\n",
       "      <td>334.12</td>\n",
       "      <td>333.93</td>\n",
       "      <td>335.56</td>\n",
       "      <td>337.60</td>\n",
       "      <td>339.20</td>\n",
       "      <td>339.00</td>\n",
       "      <td>338.94</td>\n",
       "      <td>338.13</td>\n",
       "      <td>15.423548</td>\n",
       "    </tr>\n",
       "    <tr>\n",
       "      <th>3</th>\n",
       "      <td>1989</td>\n",
       "      <td>4</td>\n",
       "      <td>15.423548</td>\n",
       "      <td>15.495536</td>\n",
       "      <td>14.954774</td>\n",
       "      <td>13.625677</td>\n",
       "      <td>11.330833</td>\n",
       "      <td>9.135387</td>\n",
       "      <td>7.369000</td>\n",
       "      <td>7.891581</td>\n",
       "      <td>...</td>\n",
       "      <td>336.78</td>\n",
       "      <td>335.26</td>\n",
       "      <td>334.12</td>\n",
       "      <td>333.93</td>\n",
       "      <td>335.56</td>\n",
       "      <td>337.60</td>\n",
       "      <td>339.20</td>\n",
       "      <td>339.00</td>\n",
       "      <td>338.94</td>\n",
       "      <td>14.330333</td>\n",
       "    </tr>\n",
       "    <tr>\n",
       "      <th>4</th>\n",
       "      <td>1989</td>\n",
       "      <td>5</td>\n",
       "      <td>14.330333</td>\n",
       "      <td>15.423548</td>\n",
       "      <td>15.495536</td>\n",
       "      <td>14.954774</td>\n",
       "      <td>13.625677</td>\n",
       "      <td>11.330833</td>\n",
       "      <td>9.135387</td>\n",
       "      <td>7.369000</td>\n",
       "      <td>...</td>\n",
       "      <td>337.80</td>\n",
       "      <td>336.78</td>\n",
       "      <td>335.26</td>\n",
       "      <td>334.12</td>\n",
       "      <td>333.93</td>\n",
       "      <td>335.56</td>\n",
       "      <td>337.60</td>\n",
       "      <td>339.20</td>\n",
       "      <td>339.00</td>\n",
       "      <td>13.044129</td>\n",
       "    </tr>\n",
       "  </tbody>\n",
       "</table>\n",
       "<p>5 rows × 363 columns</p>\n",
       "</div>"
      ],
      "text/plain": [
       "   Year  Month        t_1        t_2        t_3        t_4        t_5  \\\n",
       "0  1989      1  13.625677  11.330833   9.135387   7.369000   7.891581   \n",
       "1  1989      2  14.954774  13.625677  11.330833   9.135387   7.369000   \n",
       "2  1989      3  15.495536  14.954774  13.625677  11.330833   9.135387   \n",
       "3  1989      4  15.423548  15.495536  14.954774  13.625677  11.330833   \n",
       "4  1989      5  14.330333  15.423548  15.495536  14.954774  13.625677   \n",
       "\n",
       "         t_6        t_7        t_8    ...      co2_112  co2_113  co2_114  \\\n",
       "0   9.808677  11.943433  13.560903    ...       333.93   335.56   337.60   \n",
       "1   7.891581   9.808677  11.943433    ...       334.12   333.93   335.56   \n",
       "2   7.369000   7.891581   9.808677    ...       335.26   334.12   333.93   \n",
       "3   9.135387   7.369000   7.891581    ...       336.78   335.26   334.12   \n",
       "4  11.330833   9.135387   7.369000    ...       337.80   336.78   335.26   \n",
       "\n",
       "   co2_115  co2_116  co2_117  co2_118  co2_119  co2_120      Value  \n",
       "0   339.20   339.00   338.94   338.13   336.65   336.21  14.954774  \n",
       "1   337.60   339.20   339.00   338.94   338.13   336.65  15.495536  \n",
       "2   335.56   337.60   339.20   339.00   338.94   338.13  15.423548  \n",
       "3   333.93   335.56   337.60   339.20   339.00   338.94  14.330333  \n",
       "4   334.12   333.93   335.56   337.60   339.20   339.00  13.044129  \n",
       "\n",
       "[5 rows x 363 columns]"
      ]
     },
     "execution_count": 6,
     "metadata": {},
     "output_type": "execute_result"
    }
   ],
   "source": [
    "train.head()"
   ]
  },
  {
   "cell_type": "code",
   "execution_count": 8,
   "metadata": {
    "collapsed": false
   },
   "outputs": [
    {
     "data": {
      "text/plain": [
       "['t_1',\n",
       " 't_2',\n",
       " 't_3',\n",
       " 't_4',\n",
       " 't_5',\n",
       " 't_6',\n",
       " 't_7',\n",
       " 't_8',\n",
       " 't_9',\n",
       " 't_10',\n",
       " 't_11',\n",
       " 't_12',\n",
       " 't_13',\n",
       " 't_14',\n",
       " 't_15',\n",
       " 't_16',\n",
       " 't_17',\n",
       " 't_18',\n",
       " 't_19',\n",
       " 't_20',\n",
       " 't_21',\n",
       " 't_22',\n",
       " 't_23',\n",
       " 't_24',\n",
       " 't_25',\n",
       " 't_26',\n",
       " 't_27',\n",
       " 't_28',\n",
       " 't_29',\n",
       " 't_30',\n",
       " 't_31',\n",
       " 't_32',\n",
       " 't_33',\n",
       " 't_34',\n",
       " 't_35',\n",
       " 't_36',\n",
       " 't_37',\n",
       " 't_38',\n",
       " 't_39',\n",
       " 't_40',\n",
       " 't_41',\n",
       " 't_42',\n",
       " 't_43',\n",
       " 't_44',\n",
       " 't_45',\n",
       " 't_46',\n",
       " 't_47',\n",
       " 't_48',\n",
       " 't_49',\n",
       " 't_50',\n",
       " 't_51',\n",
       " 't_52',\n",
       " 't_53',\n",
       " 't_54',\n",
       " 't_55',\n",
       " 't_56',\n",
       " 't_57',\n",
       " 't_58',\n",
       " 't_59',\n",
       " 't_60',\n",
       " 't_61',\n",
       " 't_62',\n",
       " 't_63',\n",
       " 't_64',\n",
       " 't_65',\n",
       " 't_66',\n",
       " 't_67',\n",
       " 't_68',\n",
       " 't_69',\n",
       " 't_70',\n",
       " 't_71',\n",
       " 't_72',\n",
       " 't_73',\n",
       " 't_74',\n",
       " 't_75',\n",
       " 't_76',\n",
       " 't_77',\n",
       " 't_78',\n",
       " 't_79',\n",
       " 't_80',\n",
       " 't_81',\n",
       " 't_82',\n",
       " 't_83',\n",
       " 't_84',\n",
       " 't_85',\n",
       " 't_86',\n",
       " 't_87',\n",
       " 't_88',\n",
       " 't_89',\n",
       " 't_90',\n",
       " 't_91',\n",
       " 't_92',\n",
       " 't_93',\n",
       " 't_94',\n",
       " 't_95',\n",
       " 't_96',\n",
       " 't_97',\n",
       " 't_98',\n",
       " 't_99',\n",
       " 't_100',\n",
       " 't_101',\n",
       " 't_102',\n",
       " 't_103',\n",
       " 't_104',\n",
       " 't_105',\n",
       " 't_106',\n",
       " 't_107',\n",
       " 't_108',\n",
       " 't_109',\n",
       " 't_110',\n",
       " 't_111',\n",
       " 't_112',\n",
       " 't_113',\n",
       " 't_114',\n",
       " 't_115',\n",
       " 't_116',\n",
       " 't_117',\n",
       " 't_118',\n",
       " 't_119',\n",
       " 't_120']"
      ]
     },
     "execution_count": 8,
     "metadata": {},
     "output_type": "execute_result"
    }
   ],
   "source": [
    "#features = list(train.columns[0:60]) + list(train.columns[120:132]) + list(train.columns[240:252])\n",
    "features = list(train.columns[2:122])\n",
    "features"
   ]
  },
  {
   "cell_type": "code",
   "execution_count": 9,
   "metadata": {
    "collapsed": false
   },
   "outputs": [],
   "source": [
    "X = train[features]\n",
    "y = train['Value']"
   ]
  },
  {
   "cell_type": "code",
   "execution_count": 62,
   "metadata": {
    "collapsed": true
   },
   "outputs": [],
   "source": [
    "# no forcing 30 hidden layer size\n",
    "reg = MLPRegressor(algorithm='l-bfgs', activation='relu', alpha=1e-6, hidden_layer_sizes=(5,), random_state=1)"
   ]
  },
  {
   "cell_type": "code",
   "execution_count": 63,
   "metadata": {
    "collapsed": false
   },
   "outputs": [],
   "source": [
    "MAE = cross_val_score(reg, X, y, cv=10, scoring = 'mean_absolute_error') "
   ]
  },
  {
   "cell_type": "code",
   "execution_count": 64,
   "metadata": {
    "collapsed": false
   },
   "outputs": [
    {
     "data": {
      "text/plain": [
       "-0.27090295726451508"
      ]
     },
     "execution_count": 64,
     "metadata": {},
     "output_type": "execute_result"
    }
   ],
   "source": [
    "MAE.mean()"
   ]
  },
  {
   "cell_type": "code",
   "execution_count": 65,
   "metadata": {
    "collapsed": true
   },
   "outputs": [],
   "source": [
    "clf = reg.fit(X, y)"
   ]
  },
  {
   "cell_type": "code",
   "execution_count": 66,
   "metadata": {
    "collapsed": true
   },
   "outputs": [],
   "source": [
    "# predict on all trainings\n",
    "XT = train[features]"
   ]
  },
  {
   "cell_type": "code",
   "execution_count": 67,
   "metadata": {
    "collapsed": true
   },
   "outputs": [],
   "source": [
    "training_pred = clf.predict(XT)"
   ]
  },
  {
   "cell_type": "code",
   "execution_count": 68,
   "metadata": {
    "collapsed": false
   },
   "outputs": [],
   "source": [
    "# reshape to an array (one row, n columns)\n",
    "XT = train.iloc[len(train)-1][2:122].reshape(1,-1)\n",
    "# total prediction months\n",
    "start_year = 2015\n",
    "end_year = 2100\n",
    "total_mn = (end_year - start_year + 1) * 12 + 1  # the frist prediction is for 201412 \n",
    "prediction = np.zeros(total_mn)\n",
    "i = 0\n",
    "while i < total_mn:\n",
    "    y_pred = clf.predict(XT)\n",
    "    if y_pred < 0.0:\n",
    "        y_pred = 0.0\n",
    "    prediction[i] = y_pred\n",
    "    XT = np.insert(XT[0][0:-1],0,y_pred).reshape(1,-1)\n",
    "    XT\n",
    "    i += 1"
   ]
  },
  {
   "cell_type": "code",
   "execution_count": 69,
   "metadata": {
    "collapsed": false
   },
   "outputs": [
    {
     "data": {
      "text/plain": [
       "array([ 12.28661358,  13.70762361,  14.63753619, ...,   0.        ,\n",
       "         0.        ,   0.        ])"
      ]
     },
     "execution_count": 69,
     "metadata": {},
     "output_type": "execute_result"
    }
   ],
   "source": [
    "prediction"
   ]
  },
  {
   "cell_type": "code",
   "execution_count": 70,
   "metadata": {
    "collapsed": true
   },
   "outputs": [],
   "source": [
    "# read all observation data\n",
    "org = pd.read_csv('NH_seaice_extent_monthly.csv')"
   ]
  },
  {
   "cell_type": "code",
   "execution_count": 74,
   "metadata": {
    "collapsed": false
   },
   "outputs": [
    {
     "data": {
      "image/png": "[encoded data removed]",
      "text/plain": [
       "<matplotlib.figure.Figure at 0x10d261710>"
      ]
     },
     "metadata": {},
     "output_type": "display_data"
    }
   ],
   "source": [
    "import matplotlib.dates as mdates\n",
    "import datetime as dt\n",
    "\n",
    "my_date = []\n",
    "for year in range(1979, 2101):\n",
    "    for month in range(1,13):\n",
    "        my_date.append(str(year) + '{:02d}'.format(month))\n",
    "# date_fmt is a string giving the correct format for your date.\n",
    "date_fmt = '%Y%m'\n",
    "# convert dates into datetime objects\n",
    "dt_x = [dt.datetime.strptime(s, date_fmt) for s in my_date]\n",
    "\n",
    "# Now to actually plot your data.\n",
    "fig, ax = plt.subplots()\n",
    "# Use plot_date rather than plot when dealing with time data.\n",
    "ax.plot_date(dt_x[0:432], org['Extent'].tolist(), 'b')\n",
    "ax.plot_date(dt_x[120:], np.concatenate((training_pred, prediction[1:])), 'r--')\n",
    "date_formatter = mdates.DateFormatter('%Y')\n",
    "# Set the major tick formatter to use your date formatter.\n",
    "ax.xaxis.set_major_formatter(date_formatter)\n",
    "datemin = dt.date(1979, 1, 1)\n",
    "datemax = dt.date(2101, 1, 1)\n",
    "ax.set_xlim(datemin, datemax)\n",
    "# This simply rotates the x-axis tick labels slightly so they fit nicely.\n",
    "fig.autofmt_xdate()\n",
    "\n",
    "plt.ylabel(\"Sea Ice Extent (10^6 km^2)\")\n",
    "plt.savefig(\"seac_ice_extent_forcasting_10years.png\")\n",
    "plt.show()\n"
   ]
  },
  {
   "cell_type": "code",
   "execution_count": null,
   "metadata": {
    "collapsed": true
   },
   "outputs": [],
   "source": []
  }
 ],
 "metadata": {
  "kernelspec": {
   "display_name": "Python 2",
   "language": "python",
   "name": "python2"
  },
  "language_info": {
   "codemirror_mode": {
    "name": "ipython",
    "version": 2
   },
   "file_extension": ".py",
   "mimetype": "text/x-python",
   "name": "python",
   "nbconvert_exporter": "python",
   "pygments_lexer": "ipython2",
   "version": "2.7.12"
  }
 },
 "nbformat": 4,
 "nbformat_minor": 0
}
